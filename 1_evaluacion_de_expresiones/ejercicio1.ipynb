{
 "cells": [
  {
   "cell_type": "markdown",
   "metadata": {},
   "source": [
    "# Ejercicio 1 \n",
    "Ejercicio 1 de evaluacion de expresiones en python\n",
    "\n",
    "$ \\frac {\\pi ^2}{6} = \\sum_{n=1}^{\\infty} \\frac{1}{n ^ 2}$"
   ]
  },
  {
   "cell_type": "code",
   "execution_count": 4,
   "metadata": {},
   "outputs": [
    {
     "name": "stdout",
     "output_type": "stream",
     "text": [
      "valor de teorico: 1.6449340668482264, Aproximacion: 1.6449290668357415\n",
      "Error: 5.000012484934757e-06\n"
     ]
    }
   ],
   "source": [
    "import math\n",
    "res = math.pi **2 / 6\n",
    "res2 = 0\n",
    "\n",
    "for n in range(1, 200000):\n",
    "    res2 +=1 / (n**2 )\n",
    "\n",
    "print(f\"valor de teorico: {res}, Aproximacion: {res2}\")\n",
    "error = abs(res - res2)\n",
    "print(f\"Error: {error}\")\n"
   ]
  },
  {
   "cell_type": "markdown",
   "metadata": {},
   "source": [
    "### Expresion 1\n",
    "\n",
    "primero se ejecuta la potencia: 2**2 = 4\n",
    "\n",
    "despues se multiplica por 4\n",
    "\n",
    "y se le suman 3"
   ]
  },
  {
   "cell_type": "markdown",
   "metadata": {},
   "source": [
    "Expresion 1\n",
    "\n",
    "Por jerarquia se resulve primero lo que esta dentro del parentesis y despues se multiplica por 4"
   ]
  },
  {
   "cell_type": "code",
   "execution_count": 1,
   "metadata": {},
   "outputs": [
    {
     "name": "stdout",
     "output_type": "stream",
     "text": [
      "20\n"
     ]
    }
   ],
   "source": [
    "expr1 = (3 + 2) * 4 \n",
    "print(expr1)"
   ]
  },
  {
   "cell_type": "markdown",
   "metadata": {},
   "source": [
    "Expresion 2\n",
    "\n",
    "Se eleva primero el numero 3 al cuadrado y despues se multiplica por 2"
   ]
  },
  {
   "cell_type": "code",
   "execution_count": 3,
   "metadata": {},
   "outputs": [
    {
     "name": "stdout",
     "output_type": "stream",
     "text": [
      "18\n"
     ]
    }
   ],
   "source": [
    "expr2 = 2 * 3 ** 2 \n",
    "print(expr2)"
   ]
  },
  {
   "cell_type": "markdown",
   "metadata": {},
   "source": [
    "Expresion 3\n",
    "\n",
    "Primero se divide 10 entre 3 dando como resultado 3 y se le suma 2, dando 5"
   ]
  },
  {
   "cell_type": "code",
   "execution_count": 4,
   "metadata": {},
   "outputs": [
    {
     "name": "stdout",
     "output_type": "stream",
     "text": [
      "5\n"
     ]
    }
   ],
   "source": [
    "expr3 = 10 // 3 + 2\n",
    "print(expr3)"
   ]
  },
  {
   "cell_type": "markdown",
   "metadata": {},
   "source": [
    "Expresion 4\n",
    "\n",
    "Primero se realiza el resto por lo que da como resultado 2, seguido se multiplica por 2 dando 4"
   ]
  },
  {
   "cell_type": "code",
   "execution_count": 5,
   "metadata": {},
   "outputs": [
    {
     "name": "stdout",
     "output_type": "stream",
     "text": [
      "4\n"
     ]
    }
   ],
   "source": [
    "expr4 = 17 % 5 * 2\n",
    "print(expr4)"
   ]
  },
  {
   "cell_type": "markdown",
   "metadata": {},
   "source": [
    "Expresion 5\n",
    "\n",
    "El -2 elevado al cuadrado da -4"
   ]
  },
  {
   "cell_type": "code",
   "execution_count": 6,
   "metadata": {},
   "outputs": [
    {
     "name": "stdout",
     "output_type": "stream",
     "text": [
      "-4\n"
     ]
    }
   ],
   "source": [
    "expr5 = -2 ** 2\n",
    "print(expr5)"
   ]
  },
  {
   "cell_type": "markdown",
   "metadata": {},
   "source": [
    "Expresion 6\n",
    "\n",
    "-primero se resuelve el 2 al cuadrado \n",
    "\n",
    "-despues se multiplica por 4\n",
    "\n",
    "-Luego se divide entre 3\n",
    "\n",
    "-por ultimo se le suman 3"
   ]
  },
  {
   "cell_type": "code",
   "execution_count": 7,
   "metadata": {},
   "outputs": [
    {
     "name": "stdout",
     "output_type": "stream",
     "text": [
      "8\n"
     ]
    }
   ],
   "source": [
    "expr6 = 3 + 4 * 2 ** 2 // 3\n",
    "print(expr6)"
   ]
  },
  {
   "cell_type": "markdown",
   "metadata": {},
   "source": [
    "Expresion 7\n",
    "\n",
    "3 si es menor que 4 y 4 si es menor que 5 por lo tanto la expresion es verdadera (Se lee de izquierda a derecha)"
   ]
  },
  {
   "cell_type": "code",
   "execution_count": 8,
   "metadata": {},
   "outputs": [
    {
     "name": "stdout",
     "output_type": "stream",
     "text": [
      "True\n"
     ]
    }
   ],
   "source": [
    "expr7 = 3 < 4 < 5\n",
    "print(expr7)"
   ]
  },
  {
   "cell_type": "markdown",
   "metadata": {},
   "source": [
    "Expresion 8\n",
    "\n",
    "3 mayor que 2 es \"true\", y 5 menor que 10 es \"true\", entonces \"true\" y \"true en AND es igual a \"true\"\n",
    "y \"true\" y \"false\" en OR es igual al resultado que da que es \"true\""
   ]
  },
  {
   "cell_type": "code",
   "execution_count": 9,
   "metadata": {},
   "outputs": [
    {
     "name": "stdout",
     "output_type": "stream",
     "text": [
      "True\n"
     ]
    }
   ],
   "source": [
    "expr8 = (3 > 2) and (5 < 10) or False\n",
    "print(expr8)"
   ]
  },
  {
   "cell_type": "markdown",
   "metadata": {},
   "source": [
    "Expresion 9\n",
    "\n",
    "Primero se suma el 3 +  1 dando 4, y luego se realiza la expresion en binario AND con 5 y 4 dando como resultado 4"
   ]
  },
  {
   "cell_type": "code",
   "execution_count": 10,
   "metadata": {},
   "outputs": [
    {
     "name": "stdout",
     "output_type": "stream",
     "text": [
      "4\n"
     ]
    }
   ],
   "source": [
    "expr9 = 5 & 3 + 1\n",
    "print(expr9)"
   ]
  },
  {
   "cell_type": "markdown",
   "metadata": {},
   "source": [
    "Expresion 10"
   ]
  },
  {
   "cell_type": "code",
   "execution_count": null,
   "metadata": {},
   "outputs": [
    {
     "name": "stdout",
     "output_type": "stream",
     "text": [
      "40\n"
     ]
    }
   ],
   "source": [
    "expr10 = (2 + 3) * 4 ** 2 // (5 % 3) and not False\n",
    "print(expr10)"
   ]
  }
 ],
 "metadata": {
  "kernelspec": {
   "display_name": "Python 3",
   "language": "python",
   "name": "python3"
  },
  "language_info": {
   "codemirror_mode": {
    "name": "ipython",
    "version": 3
   },
   "file_extension": ".py",
   "mimetype": "text/x-python",
   "name": "python",
   "nbconvert_exporter": "python",
   "pygments_lexer": "ipython3",
   "version": "3.11.4"
  }
 },
 "nbformat": 4,
 "nbformat_minor": 2
}
